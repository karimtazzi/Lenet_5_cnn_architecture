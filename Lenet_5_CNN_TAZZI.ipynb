{
  "cells": [
    {
      "cell_type": "markdown",
      "metadata": {
        "id": "brHGZRcZJohf"
      },
      "source": [
        "# Name: TAZZI KARIM"
      ]
    },
    {
      "cell_type": "markdown",
      "metadata": {
        "id": "KHymi1RqJoho"
      },
      "source": [
        "## Classify images using Lenet-5-CNN architecture"
      ]
    },
    {
      "cell_type": "markdown",
      "metadata": {
        "id": "elXejvtkJohq"
      },
      "source": [
        "Yann LeCun, Leon Bottou, Yosuha Bengio and Patrick Haffner proposed a neural network architecture for handwritten and machine-printed character recognition in 1990’s which they called LeNet-5.\n",
        "\n",
        "The LeNet-5 architecture consists of two sets of convolutional and average pooling layers, followed by a flattening convolutional layer, then two fully-connected layers and finally a softmax classifier."
      ]
    },
    {
      "cell_type": "markdown",
      "metadata": {
        "id": "a9mictnyJoht"
      },
      "source": [
        "First Layer:\n",
        "\n",
        "The input for LeNet-5 is a 32×32 grayscale image which passes through the first convolutional layer with 6 feature maps or filters having size 5×5 and a stride of one. The image dimensions changes from 32x32x1 to 28x28x6.\n",
        "\n",
        "Second Layer:\n",
        "\n",
        "Then the LeNet-5 applies average pooling layer or sub-sampling layer with a filter size 2×2 and a stride of two. The resulting image dimensions will be reduced to 14x14x6.\n",
        "\n",
        "Third Layer:\n",
        "\n",
        "Next, there is a second convolutional layer with 16 feature maps having size 5×5 and a stride of 1. In this layer, only 10 out of 16 feature maps are connected to 6 feature maps of the previous layer.\n",
        "\n",
        "\n",
        "\n",
        "Fourth Layer:\n",
        "\n",
        "The fourth layer (S4) is again an average pooling layer with filter size 2×2 and a stride of 2. This layer is the same as the second layer (S2) except it has 16 feature maps so the output will be reduced to 5x5x16.\n",
        "\n",
        "Fifth Layer:\n",
        "\n",
        "The fifth layer (C5) is a fully connected convolutional layer with 120 feature maps each of size 1×1. Each of the 120 units in C5 is connected to all the 400 nodes (5x5x16) in the fourth layer S4.\n",
        "\n",
        "Sixth Layer:\n",
        "\n",
        "The sixth layer is a fully connected layer (F6) with 84 units.\n",
        "\n",
        "Output Layer:\n",
        "\n",
        "Finally, there is a fully connected softmax output layer ŷ with 10 possible values corresponding to the following classes : 'airplane', 'automobile', 'bird', 'cat', 'deer','dog', 'frog', 'horse', 'ship' and  'truck'"
      ]
    },
    {
      "cell_type": "markdown",
      "metadata": {
        "id": "7vQAboL-Johx"
      },
      "source": [
        "### Implementation"
      ]
    },
    {
      "cell_type": "code",
      "execution_count": null,
      "metadata": {
        "id": "sTx3otF0Johy"
      },
      "outputs": [],
      "source": [
        "import tensorflow as tf\n",
        "from tensorflow import keras\n",
        "from tensorflow.keras import datasets, layers, models\n",
        "import matplotlib.pyplot as plt"
      ]
    },
    {
      "cell_type": "code",
      "execution_count": null,
      "metadata": {
        "id": "yYE9UVNDJoh1"
      },
      "outputs": [],
      "source": [
        "(train_images, train_labels), (test_images, test_labels) = datasets.cifar10.load_data()\n",
        "\n",
        "# Normalize pixel values to be between 0 and 1\n",
        "train_images, test_images = train_images / 255.0, test_images / 255.0"
      ]
    },
    {
      "cell_type": "code",
      "execution_count": null,
      "metadata": {
        "id": "f1R80vQ5Joh3"
      },
      "outputs": [],
      "source": [
        "class_names = ['airplane', 'automobile', 'bird', 'cat', 'deer',\n",
        "               'dog', 'frog', 'horse', 'ship', 'truck']"
      ]
    },
    {
      "cell_type": "code",
      "execution_count": null,
      "metadata": {
        "id": "q57Ah4TqJoh4"
      },
      "outputs": [],
      "source": [
        "lenet_5_model = keras.models.Sequential([\n",
        "    keras.layers.Conv2D(6, kernel_size=5, strides=1,  activation='tanh', input_shape=train_images[0].shape, padding='same'), #C1\n",
        "    keras.layers.AveragePooling2D(), #S2\n",
        "    keras.layers.Conv2D(16, kernel_size=5, strides=1, activation='tanh', padding='valid'), #C3\n",
        "    keras.layers.AveragePooling2D(), #S4\n",
        "    keras.layers.Conv2D(120, kernel_size=5, strides=1, activation='tanh', padding='valid'), #C5\n",
        "    keras.layers.Flatten(), #Flatten    \n",
        "    keras.layers.Dense(84, activation='tanh'), #F6\n",
        "    keras.layers.Dense(10, activation='softmax') #Output layer\n",
        "])"
      ]
    },
    {
      "cell_type": "code",
      "execution_count": null,
      "metadata": {
        "id": "9e8_GKuMJoh7"
      },
      "outputs": [],
      "source": [
        "lenet_5_model.compile(optimizer='adam',\n",
        " loss=keras.losses.sparse_categorical_crossentropy\n",
        " , metrics=['accuracy'])"
      ]
    },
    {
      "cell_type": "code",
      "execution_count": null,
      "metadata": {
        "id": "1kihLWTLJoh9",
        "outputId": "b64c796f-c9fd-450a-a3e5-e2a75fedc92a"
      },
      "outputs": [
        {
          "name": "stdout",
          "output_type": "stream",
          "text": [
            "Epoch 1/10\n",
            "1563/1563 [==============================] - 64s 41ms/step - loss: 1.7857 - accuracy: 0.3696 - val_loss: 1.6330 - val_accuracy: 0.4206\n",
            "Epoch 2/10\n",
            "1563/1563 [==============================] - 67s 43ms/step - loss: 1.5579 - accuracy: 0.4492 - val_loss: 1.4914 - val_accuracy: 0.4724\n",
            "Epoch 3/10\n",
            "1563/1563 [==============================] - 70s 45ms/step - loss: 1.4592 - accuracy: 0.4827 - val_loss: 1.4506 - val_accuracy: 0.4852\n",
            "Epoch 4/10\n",
            "1563/1563 [==============================] - 69s 44ms/step - loss: 1.3930 - accuracy: 0.5052 - val_loss: 1.4324 - val_accuracy: 0.4861\n",
            "Epoch 5/10\n",
            "1563/1563 [==============================] - 74s 47ms/step - loss: 1.3365 - accuracy: 0.5258 - val_loss: 1.3883 - val_accuracy: 0.5043\n",
            "Epoch 6/10\n",
            "1563/1563 [==============================] - 67s 43ms/step - loss: 1.2856 - accuracy: 0.5467 - val_loss: 1.3604 - val_accuracy: 0.5165\n",
            "Epoch 7/10\n",
            "1563/1563 [==============================] - 66s 42ms/step - loss: 1.2363 - accuracy: 0.5613 - val_loss: 1.3278 - val_accuracy: 0.5278\n",
            "Epoch 8/10\n",
            "1563/1563 [==============================] - 63s 40ms/step - loss: 1.1907 - accuracy: 0.5771 - val_loss: 1.3519 - val_accuracy: 0.5181\n",
            "Epoch 9/10\n",
            "1563/1563 [==============================] - 60s 38ms/step - loss: 1.1435 - accuracy: 0.5968 - val_loss: 1.3311 - val_accuracy: 0.5342\n",
            "Epoch 10/10\n",
            "1563/1563 [==============================] - 61s 39ms/step - loss: 1.1043 - accuracy: 0.6111 - val_loss: 1.3265 - val_accuracy: 0.5346\n"
          ]
        }
      ],
      "source": [
        "history = lenet_5_model.fit(train_images, train_labels, epochs=10, \n",
        "                    validation_data=(test_images, test_labels))"
      ]
    },
    {
      "cell_type": "code",
      "execution_count": null,
      "metadata": {
        "id": "uC6vIPjCJoiA",
        "outputId": "c6ba8bbe-bf68-4b29-e4d7-b7d3492938cc"
      },
      "outputs": [
        {
          "name": "stdout",
          "output_type": "stream",
          "text": [
            "313/313 - 3s - loss: 1.3265 - accuracy: 0.5346 - 3s/epoch - 10ms/step\n"
          ]
        },
        {
          "data": {
            "image/png": "[encoded data removed]",
            "text/plain": [
              "<Figure size 432x288 with 1 Axes>"
            ]
          },
          "metadata": {
            "needs_background": "light"
          },
          "output_type": "display_data"
        }
      ],
      "source": [
        "plt.plot(history.history['accuracy'], label='accuracy')\n",
        "plt.plot(history.history['val_accuracy'], label = 'val_accuracy')\n",
        "plt.xlabel('Epoch')\n",
        "plt.ylabel('Accuracy')\n",
        "plt.ylim([0.5, 1])\n",
        "plt.legend(loc='lower right')\n",
        "\n"
      ]
    },
    {
      "cell_type": "code",
      "execution_count": null,
      "metadata": {
        "id": "G1LHdvl2JoiC",
        "outputId": "1b07c3a9-89ee-4153-eb75-811e7dc97e2a"
      },
      "outputs": [
        {
          "name": "stdout",
          "output_type": "stream",
          "text": [
            "313/313 - 3s - loss: 1.3265 - accuracy: 0.5346 - 3s/epoch - 10ms/step\n"
          ]
        }
      ],
      "source": [
        "test_loss, test_acc = lenet_5_model.evaluate(test_images,  test_labels, verbose=2)"
      ]
    }
  ],
  "metadata": {
    "interpreter": {
      "hash": "485035c5b2a6f2b50dc2dc5ca51aeeb931032fbc9adc2e30c7c528d6bf8a9176"
    },
    "kernelspec": {
      "display_name": "Python 3.8.8 ('base')",
      "language": "python",
      "name": "python3"
    },
    "language_info": {
      "codemirror_mode": {
        "name": "ipython",
        "version": 3
      },
      "file_extension": ".py",
      "mimetype": "text/x-python",
      "name": "python",
      "nbconvert_exporter": "python",
      "pygments_lexer": "ipython3",
      "version": "3.8.8"
    },
    "orig_nbformat": 4,
    "colab": {
      "name": "Lenet-5-CNN_TAZZI.ipynb",
      "provenance": [],
      "collapsed_sections": []
    }
  },
  "nbformat": 4,
  "nbformat_minor": 0
}